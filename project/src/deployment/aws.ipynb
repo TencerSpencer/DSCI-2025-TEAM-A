{
 "cells": [
  {
   "cell_type": "markdown",
   "id": "242add6e",
   "metadata": {},
   "source": [
    "### SSH into EC2 Instance\n",
    "EC2 IP Address:<br>\n",
    "_Run in local terminal_"
   ]
  },
  {
   "cell_type": "code",
   "execution_count": null,
   "id": "41fe0498",
   "metadata": {
    "vscode": {
     "languageId": "shellscript"
    }
   },
   "outputs": [],
   "source": [
    "# do this command on local PC\n",
    "# first argument is file with aws encrypted key\n",
    "# second argument is IP address of EC2 instance\n",
    "ssh -i project/DSCI.pem ubuntu@my-ip\n",
    "\n"
   ]
  },
  {
   "cell_type": "markdown",
   "id": "948666d3",
   "metadata": {},
   "source": [
    "### Downloading python packages\n",
    "Do the following commands when sshed into EC2 instance.<br><br>\n",
    "Can also have a text file with list of packages to install<br><br>\n",
    "_Run in EC2 terminal_\n"
   ]
  },
  {
   "cell_type": "code",
   "execution_count": null,
   "id": "b75d93b5",
   "metadata": {
    "vscode": {
     "languageId": "shellscript"
    }
   },
   "outputs": [],
   "source": [
    "# (one-time thing)\n",
    "sudo apt update\n",
    "\n",
    "# install venv (one time thing)\n",
    "sudo apt install python3-venv -y\n",
    "\n",
    "# create venv\n",
    "python3 -m venv myvenv\n",
    "\n",
    "# activate venv\n",
    "source venv/bin/activate\n",
    "\n",
    "# to install list of packages\n",
    "pip3 install -r python_packages.txt"
   ]
  },
  {
   "cell_type": "markdown",
   "id": "8a1284d5",
   "metadata": {},
   "source": [
    "### SCP local project onto EC2\n",
    "_Run in local terminal_"
   ]
  },
  {
   "cell_type": "code",
   "execution_count": null,
   "id": "312346ef",
   "metadata": {
    "vscode": {
     "languageId": "shellscript"
    }
   },
   "outputs": [],
   "source": [
    "# in local file dir\n",
    "scp -i my-encription-file -r project/phases/api/poc/ ubuntu@my-ip-address:/home/ubuntu/"
   ]
  },
  {
   "cell_type": "markdown",
   "id": "f90232de",
   "metadata": {},
   "source": [
    "### Make API publicly accessible\n",
    "_Run in EC2 terminal_"
   ]
  },
  {
   "cell_type": "code",
   "execution_count": null,
   "id": "67cd9543",
   "metadata": {
    "vscode": {
     "languageId": "shellscript"
    }
   },
   "outputs": [],
   "source": [
    "# in EC2 terminal\n",
    "cd app_dir\n",
    "\n",
    "# edit port\n",
    "vim app.py\n",
    "\n",
    "# change app.run(debug=True) to app.run(host=\"0.0.0.0\", port=5000)\n"
   ]
  },
  {
   "cell_type": "markdown",
   "id": "c007a2ee",
   "metadata": {},
   "source": [
    "### Run app in EC2 instance\n",
    "_Run in EC2 terminal_"
   ]
  },
  {
   "cell_type": "code",
   "execution_count": null,
   "id": "133364c3",
   "metadata": {
    "vscode": {
     "languageId": "shellscript"
    }
   },
   "outputs": [],
   "source": [
    "# activate venv from within the app dir\n",
    "source ../myvenv/bin/activate\n",
    "\n",
    "# run the app\n",
    "python app.py"
   ]
  },
  {
   "cell_type": "markdown",
   "id": "ed12049d",
   "metadata": {},
   "source": [
    "### Test out by running curl command locally"
   ]
  },
  {
   "cell_type": "code",
   "execution_count": null,
   "id": "2173627d",
   "metadata": {
    "vscode": {
     "languageId": "shellscript"
    }
   },
   "outputs": [],
   "source": [
    "curl -X POST http://my-ip-address:5000/query\n",
    "  -H \"Content-Type: application/json\" \n",
    "  -d '{\"nl_query\": \"How many cars are there?\"}' "
   ]
  },
  {
   "cell_type": "markdown",
   "id": "01c9542e",
   "metadata": {},
   "source": [
    "### Curl command if running without AWS"
   ]
  },
  {
   "cell_type": "code",
   "execution_count": null,
   "id": "3d6739ea",
   "metadata": {
    "vscode": {
     "languageId": "shellscript"
    }
   },
   "outputs": [],
   "source": [
    "curl -X POST http://127.0.0.1:5000/query\n",
    "  -H \"Content-Type: application/json\" \n",
    "  -d '{\"nl_query\": \"How many cars are there?\"}' "
   ]
  },
  {
   "cell_type": "markdown",
   "id": "7b5fe19d",
   "metadata": {},
   "source": []
  }
 ],
 "metadata": {
  "language_info": {
   "name": "python"
  }
 },
 "nbformat": 4,
 "nbformat_minor": 5
}

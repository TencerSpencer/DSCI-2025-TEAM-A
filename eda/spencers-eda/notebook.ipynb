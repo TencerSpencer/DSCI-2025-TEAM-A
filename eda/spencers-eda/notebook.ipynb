{
 "cells": [
  {
   "cell_type": "markdown",
   "metadata": {},
   "source": [
    "take agreed upon dataset spider 1.0's soccer_1 set, which can be found under: https://www.kaggle.com/datasets/jeromeblanchet/yale-universitys-spider-10-nlp-dataset/code\n",
    "this requires downloading the zip and searching for soccer_1. soccer_1 is choosen due to the db being the greatest size -> which can mean that it has the most data\n",
    "\n",
    "i'll take the soccer_1.sqlite file and hook it up to this notebook so that we can do some observations. schema.sql contains the ddl necessary to rebuild the database\n",
    "soccer_1.sqlite already has records loaded into it. I have a backup of this db stored elsewhere on my machine\n",
    "\n",
    "i am not super familiar with soccer, so a bunch of this is going to be guesing/understanding the schema, which is a process we'll have to do anyways\n",
    "ill also be using a virtual env with python 3.12.1. sqlite3 is also shipped by default with python. https://www.tutorialspoint.com/sqlite/sqlite_python.htm\n",
    "\n",
    "the db cannot be added to source control due to being too large\n"
   ]
  },
  {
   "cell_type": "code",
   "execution_count": 5,
   "metadata": {},
   "outputs": [
    {
     "data": {
      "text/plain": [
       "(11060,)"
      ]
     },
     "execution_count": 5,
     "metadata": {},
     "output_type": "execute_result"
    }
   ],
   "source": [
    "import sqlite3\n",
    "\n",
    "conn = sqlite3.connect('database/soccer_1.sqlite')\n",
    "\n",
    "conn.execute('SELECT COUNT(*) FROM PLAYER').fetchone()"
   ]
  },
  {
   "cell_type": "code",
   "execution_count": null,
   "metadata": {},
   "outputs": [],
   "source": []
  },
  {
   "cell_type": "markdown",
   "metadata": {},
   "source": []
  }
 ],
 "metadata": {
  "kernelspec": {
   "display_name": ".venv",
   "language": "python",
   "name": "python3"
  },
  "language_info": {
   "codemirror_mode": {
    "name": "ipython",
    "version": 3
   },
   "file_extension": ".py",
   "mimetype": "text/x-python",
   "name": "python",
   "nbconvert_exporter": "python",
   "pygments_lexer": "ipython3",
   "version": "3.12.1"
  }
 },
 "nbformat": 4,
 "nbformat_minor": 2
}

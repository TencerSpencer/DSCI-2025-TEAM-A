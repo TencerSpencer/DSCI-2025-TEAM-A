{
 "cells": [
  {
   "cell_type": "code",
   "execution_count": null,
   "id": "dc7041bf",
   "metadata": {},
   "outputs": [],
   "source": [
    "# first, load the data in from a csv, pandas will work here\n",
    "import pandas\n",
    "import matplotlib\n",
    "import numpy"
   ]
  },
  {
   "cell_type": "code",
   "execution_count": null,
   "id": "22a5c231",
   "metadata": {},
   "outputs": [],
   "source": [
    "# after initial observations, start performing an eda on the dataset\n",
    "# if date fields exist, may want to change them to a datetime format\n",
    "\n"
   ]
  },
  {
   "cell_type": "code",
   "execution_count": null,
   "id": "ce964980",
   "metadata": {},
   "outputs": [],
   "source": [
    "# for descriptive analysis look at central tendency measurements - mean, median, maybe mod\n",
    "#   for variability look into standard deviation/variance/skewness\n",
    "        # skewness can be found through using a histogram"
   ]
  },
  {
   "cell_type": "code",
   "execution_count": null,
   "id": "548a3a0a",
   "metadata": {},
   "outputs": [],
   "source": [
    "# for trends, look for if the data follows an exponential pattern.. etc\n",
    "#   if exponential, it may benefit to take the log of the response variable\n",
    "# for outliers, can use violin plot/box plot\n",
    "# for correlations, can use a correlation matrix\n"
   ]
  },
  {
   "cell_type": "code",
   "execution_count": null,
   "id": "a59ee04f",
   "metadata": {},
   "outputs": [],
   "source": [
    "# transformations to the response variable can be done here\n",
    "# I am not super familiar with all transformations, however, a common one that help lessen extremes in data is log"
   ]
  },
  {
   "cell_type": "code",
   "execution_count": null,
   "id": "17dd77f9",
   "metadata": {},
   "outputs": [],
   "source": [
    "# when creating the train/test split, use the line below, which enforces 30% of the data is considered testing data\n",
    "# while 70% of the data is considered training data\n",
    "# X_train, X_test, y_train, y_test = train_test_split(X, y, test_size=0.3, random_state=123)\n",
    "# the function call above is from scikit learn"
   ]
  },
  {
   "cell_type": "code",
   "execution_count": null,
   "id": "0d05ea98",
   "metadata": {},
   "outputs": [],
   "source": [
    "# for regression models, linear/polynomial/logistic will likely not be what we will care for, but who knows?\n",
    "# decision trees/random forest, ridge/llasso.. etc\n",
    "\n",
    "# scikit will be extremely helpful here.\n",
    "# https://scikit-learn.org/stable/modules/preprocessing.html can be looked into for transformations and mputing of missing values"
   ]
  },
  {
   "cell_type": "code",
   "execution_count": null,
   "id": "3d1867b3",
   "metadata": {},
   "outputs": [],
   "source": [
    "# for cross validation, refer to: https://scikit-learn.org/stable/modules/cross_validation.html"
   ]
  },
  {
   "cell_type": "code",
   "execution_count": null,
   "id": "476491a4",
   "metadata": {},
   "outputs": [],
   "source": [
    "# for hyper parameter tuning, refer to: https://scikit-learn.org/stable/modules/grid_search.html"
   ]
  },
  {
   "cell_type": "code",
   "execution_count": null,
   "id": "6bf50501",
   "metadata": {},
   "outputs": [],
   "source": [
    "# team with lowest RMSE wins\n",
    "#  https://www.geeksforgeeks.org/rmse-root-mean-square-error-in-matlab/"
   ]
  }
 ],
 "metadata": {
  "kernelspec": {
   "display_name": ".venv",
   "language": "python",
   "name": "python3"
  },
  "language_info": {
   "name": "python",
   "version": "3.9.12"
  }
 },
 "nbformat": 4,
 "nbformat_minor": 5
}

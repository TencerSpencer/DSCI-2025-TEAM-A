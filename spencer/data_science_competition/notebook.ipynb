{
 "cells": [
  {
   "cell_type": "code",
   "execution_count": 37,
   "id": "dc7041bf",
   "metadata": {},
   "outputs": [
    {
     "name": "stderr",
     "output_type": "stream",
     "text": [
      "C:\\Users\\spenc\\AppData\\Local\\Temp\\ipykernel_15596\\729452090.py:15: SettingWithCopyWarning: \n",
      "A value is trying to be set on a copy of a slice from a DataFrame.\n",
      "Try using .loc[row_indexer,col_indexer] = value instead\n",
      "\n",
      "See the caveats in the documentation: https://pandas.pydata.org/pandas-docs/stable/user_guide/indexing.html#returning-a-view-versus-a-copy\n",
      "  clean_data['Month_Categorized'] = clean_data['Month'].astype('category')\n",
      "C:\\Users\\spenc\\AppData\\Local\\Temp\\ipykernel_15596\\729452090.py:16: SettingWithCopyWarning: \n",
      "A value is trying to be set on a copy of a slice from a DataFrame.\n",
      "Try using .loc[row_indexer,col_indexer] = value instead\n",
      "\n",
      "See the caveats in the documentation: https://pandas.pydata.org/pandas-docs/stable/user_guide/indexing.html#returning-a-view-versus-a-copy\n",
      "  clean_data['Month_Categorized'] = clean_data['Month_Categorized'].cat.codes\n",
      "C:\\Users\\spenc\\AppData\\Local\\Temp\\ipykernel_15596\\729452090.py:18: SettingWithCopyWarning: \n",
      "A value is trying to be set on a copy of a slice from a DataFrame.\n",
      "Try using .loc[row_indexer,col_indexer] = value instead\n",
      "\n",
      "See the caveats in the documentation: https://pandas.pydata.org/pandas-docs/stable/user_guide/indexing.html#returning-a-view-versus-a-copy\n",
      "  clean_data['System_Voltage_Categorized'] = clean_data['Month'].astype('category')\n",
      "C:\\Users\\spenc\\AppData\\Local\\Temp\\ipykernel_15596\\729452090.py:19: SettingWithCopyWarning: \n",
      "A value is trying to be set on a copy of a slice from a DataFrame.\n",
      "Try using .loc[row_indexer,col_indexer] = value instead\n",
      "\n",
      "See the caveats in the documentation: https://pandas.pydata.org/pandas-docs/stable/user_guide/indexing.html#returning-a-view-versus-a-copy\n",
      "  clean_data['System_Voltage_Categorized'] = clean_data['System_Voltage_Categorized'].cat.codes\n",
      "C:\\Users\\spenc\\AppData\\Local\\Temp\\ipykernel_15596\\729452090.py:21: SettingWithCopyWarning: \n",
      "A value is trying to be set on a copy of a slice from a DataFrame.\n",
      "Try using .loc[row_indexer,col_indexer] = value instead\n",
      "\n",
      "See the caveats in the documentation: https://pandas.pydata.org/pandas-docs/stable/user_guide/indexing.html#returning-a-view-versus-a-copy\n",
      "  clean_data['Failure_Code_Categorized'] = clean_data['Failure_Code'].astype('category')\n",
      "C:\\Users\\spenc\\AppData\\Local\\Temp\\ipykernel_15596\\729452090.py:22: SettingWithCopyWarning: \n",
      "A value is trying to be set on a copy of a slice from a DataFrame.\n",
      "Try using .loc[row_indexer,col_indexer] = value instead\n",
      "\n",
      "See the caveats in the documentation: https://pandas.pydata.org/pandas-docs/stable/user_guide/indexing.html#returning-a-view-versus-a-copy\n",
      "  clean_data['Failure_Code_Categorized'] = clean_data['Failure_Code_Categorized'].cat.codes\n",
      "C:\\Users\\spenc\\AppData\\Local\\Temp\\ipykernel_15596\\729452090.py:24: SettingWithCopyWarning: \n",
      "A value is trying to be set on a copy of a slice from a DataFrame.\n",
      "Try using .loc[row_indexer,col_indexer] = value instead\n",
      "\n",
      "See the caveats in the documentation: https://pandas.pydata.org/pandas-docs/stable/user_guide/indexing.html#returning-a-view-versus-a-copy\n",
      "  clean_data['Location_Categorized'] = clean_data['Location'].astype('category')\n",
      "C:\\Users\\spenc\\AppData\\Local\\Temp\\ipykernel_15596\\729452090.py:25: SettingWithCopyWarning: \n",
      "A value is trying to be set on a copy of a slice from a DataFrame.\n",
      "Try using .loc[row_indexer,col_indexer] = value instead\n",
      "\n",
      "See the caveats in the documentation: https://pandas.pydata.org/pandas-docs/stable/user_guide/indexing.html#returning-a-view-versus-a-copy\n",
      "  clean_data['Location_Categorized'] = clean_data['Location_Categorized'].cat.codes\n"
     ]
    }
   ],
   "source": [
    "# first, load the data in from a csv, pandas will work here\n",
    "import pandas as pd\n",
    "import matplotlib.pyplot as plt\n",
    "import numpy as np\n",
    "\n",
    "data = pd.read_csv('dsci_power_outage_data.csv')\n",
    "\n",
    "# look at the dataset, only three fields are missing the response variable. As such, I've choosen to remove those.\n",
    "clean_data = data[data['Delay_Hours'].notnull()]\n",
    "clean_data = data[data['System Voltage'].notnull()]\n",
    "clean_data = data[data['System_Load (kW)'].notnull()]\n",
    "\n",
    "\n",
    "# turn all categorical fields into factors\n",
    "clean_data['Month_Categorized'] = clean_data['Month'].astype('category')\n",
    "clean_data['Month_Categorized'] = clean_data['Month_Categorized'].cat.codes\n",
    "\n",
    "clean_data['System_Voltage_Categorized'] = clean_data['Month'].astype('category')\n",
    "clean_data['System_Voltage_Categorized'] = clean_data['System_Voltage_Categorized'].cat.codes\n",
    "\n",
    "clean_data['Failure_Code_Categorized'] = clean_data['Failure_Code'].astype('category')\n",
    "clean_data['Failure_Code_Categorized'] = clean_data['Failure_Code_Categorized'].cat.codes\n",
    "\n",
    "clean_data['Location_Categorized'] = clean_data['Location'].astype('category')\n",
    "clean_data['Location_Categorized'] = clean_data['Location_Categorized'].cat.codes\n",
    "\n",
    "independent_vars_names = [\"Month_Categorized\", \"System_Voltage_Categorized\", \"Consumer_Effected\", \"Failure_Code_Categorized\", \"Location_Categorized\"]\n"
   ]
  },
  {
   "cell_type": "markdown",
   "id": "179e75f4",
   "metadata": {},
   "source": [
    "Starting off, a couple of things..\n",
    "The response variable is outage_hours.\n",
    "\n",
    "Using the data wrangler extension in vscode, I've noticed some interesting behavior with the months and want to look into that a bit more. Additionally, it looks like the amount of consumers affected is usually minimal, which meands the outage isn't widespread. This makes sense considering the outages look to occur at \"lower system loads\".\n",
    "\n",
    "However, system load on its own doesn't paint a good picture. The system's voltage is also important to note. Perhaps a percentage of the system's load at the time of the outage compared to the system's voltage would make more sense. This is a transformation opportunity.\n"
   ]
  },
  {
   "cell_type": "code",
   "execution_count": 3,
   "id": "4da4aa19",
   "metadata": {},
   "outputs": [
    {
     "name": "stdout",
     "output_type": "stream",
     "text": [
      "                            Month_Categorized  System_Voltage_Categorized  \\\n",
      "Month_Categorized                    1.000000                    1.000000   \n",
      "System_Voltage_Categorized           1.000000                    1.000000   \n",
      "Consumer_Effected                   -0.000853                   -0.000853   \n",
      "Failure_Code_Categorized            -0.021131                   -0.021131   \n",
      "Location_Categorized                 0.043191                    0.043191   \n",
      "\n",
      "                            Consumer_Effected  Failure_Code_Categorized  \\\n",
      "Month_Categorized                   -0.000853                 -0.021131   \n",
      "System_Voltage_Categorized          -0.000853                 -0.021131   \n",
      "Consumer_Effected                    1.000000                 -0.762420   \n",
      "Failure_Code_Categorized            -0.762420                  1.000000   \n",
      "Location_Categorized                 0.062957                  0.068680   \n",
      "\n",
      "                            Location_Categorized  \n",
      "Month_Categorized                       0.043191  \n",
      "System_Voltage_Categorized              0.043191  \n",
      "Consumer_Effected                       0.062957  \n",
      "Failure_Code_Categorized                0.068680  \n",
      "Location_Categorized                    1.000000  \n"
     ]
    }
   ],
   "source": [
    "# after initial observations, start performing an eda on the dataset\n",
    "# if date fields exist, may want to change them to a datetime format\n",
    "\n",
    "# first, let's check for outliers\n",
    "# delay_hours_to_month = pd.DataFrame(clean_data['Month'], clean_data['Consumer_Effected'])\n",
    "\n",
    "# box_plot_fig, box_plot_ax = plt.subplots()\n",
    "# box_plot = box_plot_ax.boxplot(delay_hours_to_month, patch_artist=True)\n",
    "\n",
    "independent_vars = pd.DataFrame(clean_data, columns=independent_vars_names)\n",
    "corrMat = independent_vars.corr()\n",
    "print(corrMat)\n",
    "\n",
    "# upon reviewing the fcorrelation matrix, we can see that failure code categorized and consumers effected have the strongest correlation\n",
    "# which is about -.762420. This isn't really telling of anything except how the failure codes may be setup, though."
   ]
  },
  {
   "cell_type": "code",
   "execution_count": 4,
   "id": "ce964980",
   "metadata": {},
   "outputs": [
    {
     "data": {
      "text/plain": [
       "<BarContainer object of 13 artists>"
      ]
     },
     "execution_count": 4,
     "metadata": {},
     "output_type": "execute_result"
    },
    {
     "data": {
      "image/png": "[encoded data removed]",
      "text/plain": [
       "<Figure size 640x480 with 1 Axes>"
      ]
     },
     "metadata": {},
     "output_type": "display_data"
    }
   ],
   "source": [
    "# for descriptive analysis look at central tendency measurements - mean, median, maybe mod\n",
    "#   for variability look into standard deviation/variance/skewness\n",
    "        # skewness can be found through using a histogram\n",
    "        \n",
    "# first, observe if there is any skewness in months\n",
    "categories_month = clean_data['Month_Categorized'].value_counts().index\n",
    "counts_month = clean_data['Month_Categorized'].value_counts().values\n",
    "\n",
    "# this is also all over the place. these should be in order to make sense\n",
    "plt.bar(categories_month, counts_month, width = 1)\n"
   ]
  },
  {
   "cell_type": "code",
   "execution_count": 48,
   "id": "ddb75a42",
   "metadata": {},
   "outputs": [
    {
     "data": {
      "image/png": "[encoded data removed]",
      "text/plain": [
       "<Figure size 640x480 with 1 Axes>"
      ]
     },
     "metadata": {},
     "output_type": "display_data"
    }
   ],
   "source": [
    "# For the sake of time, let's move ahead. how about we look at the number of customers affected \n",
    "# per system voltage\n",
    "\n",
    "# first format the data accordingly by grouping it by system voltage\n",
    "\n",
    "\n",
    "voltages_set = set(list(clean_data['System Voltage']))\n",
    "voltages_set.remove(np.nan)\n",
    "\n",
    "# print(voltages_set)\n",
    "\n",
    "# first make a truth array\n",
    "\n",
    "# try just '33kV' first\n",
    "voltages_33kv_truth = list(clean_data['System Voltage'] == '33kV') \n",
    "load_arr_33kv = list(clean_data['System_Load (kW)'])\n",
    "\n",
    "voltages_33kv = []\n",
    "for i in range(len(voltages_33kv_truth)):\n",
    "    if voltages_33kv_truth[i] is True:\n",
    "        voltages_33kv.append(load_arr_33kv[i])\n",
    "        \n",
    "# print(voltages_33kv)\n",
    "\n",
    "voltages_LV_truth = list(clean_data['System Voltage'] == 'LV') \n",
    "load_arr_LV = list(clean_data['System_Load (kW)'])\n",
    "\n",
    "voltages_LV = []\n",
    "for i in range(len(voltages_LV_truth)):\n",
    "    if voltages_LV_truth[i] is True:\n",
    "        voltages_LV.append(load_arr_LV[i])\n",
    "\n",
    "# print(voltages_LV)\n",
    "        \n",
    "voltages_11kV_truth = list(clean_data['System Voltage'] == '11kV') \n",
    "load_arr_11kV = list(clean_data['System_Load (kW)'])\n",
    "\n",
    "voltages_11kV = []\n",
    "for i in range(len(voltages_11kV_truth)):\n",
    "    if voltages_11kV_truth[i] is True:\n",
    "        voltages_11kV.append(load_arr_11kV[i])\n",
    "\n",
    "# print(voltages_11kV)\n",
    "\n",
    "normalized_33kV = (voltages_33kv - np.mean(voltages_33kv))/np.std(voltages_33kv)\n",
    "# print(normalized_33kV)\n",
    "\n",
    "normalized_LV = (voltages_LV - np.mean(voltages_LV))/np.std(voltages_LV)\n",
    "# print(normalized_LV)\n",
    "\n",
    "normalized_11kV = (voltages_11kV - np.mean(voltages_11kV))/np.std(voltages_11kV)\n",
    "# print(normalized_11kV)\n",
    "\n",
    "\n",
    "normalized_voltages = [\n",
    "    normalized_33kV,\n",
    "    normalized_LV,\n",
    "    normalized_11kV\n",
    "]\n",
    "\n",
    "\n",
    "# print(normalized_voltages)\n",
    "\n",
    "# https://matplotlib.org/stable/gallery/statistics/boxplot_color.html#sphx-glr-gallery-statistics-boxplot-color-py\n",
    "fig, ax = plt.subplots()\n",
    "ax.set_ylabel('normalized system load')\n",
    "bplot = ax.boxplot(normalized_voltages, patch_artist=True, labels=voltages_set)\n",
    "\n",
    "colors = ['peachpuff', 'orange', 'tomato']\n",
    "for patch, color in zip(bplot['boxes'], colors):\n",
    "    patch.set_facecolor(color)\n",
    "\n",
    "plt.show()"
   ]
  },
  {
   "cell_type": "code",
   "execution_count": null,
   "id": "548a3a0a",
   "metadata": {},
   "outputs": [],
   "source": [
    "# for trends, look for if the data follows an exponential pattern.. etc\n",
    "#   if exponential, it may benefit to take the log of the response variable\n",
    "# for outliers, can use violin plot/box plot\n",
    "# for correlations, can use a correlation matrix\n"
   ]
  },
  {
   "cell_type": "code",
   "execution_count": null,
   "id": "a59ee04f",
   "metadata": {},
   "outputs": [],
   "source": [
    "# transformations to the response variable can be done here\n",
    "# I am not super familiar with all transformations, however, a common one that help lessen extremes in data is log"
   ]
  },
  {
   "cell_type": "code",
   "execution_count": null,
   "id": "17dd77f9",
   "metadata": {},
   "outputs": [],
   "source": [
    "# when creating the train/test split, use the line below, which enforces 30% of the data is considered testing data\n",
    "# while 70% of the data is considered training data\n",
    "# X_train, X_test, y_train, y_test = train_test_split(X, y, test_size=0.3, random_state=123)\n",
    "# the function call above is from scikit learn\n",
    "\n"
   ]
  },
  {
   "cell_type": "code",
   "execution_count": null,
   "id": "0d05ea98",
   "metadata": {},
   "outputs": [],
   "source": [
    "# for regression models, linear/polynomial/logistic will likely not be what we will care for, but who knows?\n",
    "# decision trees/random forest, ridge/llasso.. etc\n",
    "\n",
    "# scikit will be extremely helpful here.\n",
    "# https://scikit-learn.org/stable/modules/preprocessing.html can be looked into for transformations and mputing of missing values"
   ]
  },
  {
   "cell_type": "code",
   "execution_count": null,
   "id": "3d1867b3",
   "metadata": {},
   "outputs": [],
   "source": [
    "# for cross validation, refer to: https://scikit-learn.org/stable/modules/cross_validation.html"
   ]
  },
  {
   "cell_type": "code",
   "execution_count": null,
   "id": "476491a4",
   "metadata": {},
   "outputs": [],
   "source": [
    "# for hyper parameter tuning, refer to: https://scikit-learn.org/stable/modules/grid_search.html"
   ]
  },
  {
   "cell_type": "code",
   "execution_count": null,
   "id": "6bf50501",
   "metadata": {},
   "outputs": [],
   "source": [
    "# team with lowest RMSE wins\n",
    "#  https://www.geeksforgeeks.org/rmse-root-mean-square-error-in-matlab/"
   ]
  }
 ],
 "metadata": {
  "kernelspec": {
   "display_name": ".venv",
   "language": "python",
   "name": "python3"
  },
  "language_info": {
   "codemirror_mode": {
    "name": "ipython",
    "version": 3
   },
   "file_extension": ".py",
   "mimetype": "text/x-python",
   "name": "python",
   "nbconvert_exporter": "python",
   "pygments_lexer": "ipython3",
   "version": "3.8.8"
  }
 },
 "nbformat": 4,
 "nbformat_minor": 5
}
